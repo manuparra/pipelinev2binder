{
 "cells": [
  {
   "cell_type": "code",
   "execution_count": null,
   "id": "e444f68f-45b6-4d1e-a1d9-6e537a897e65",
   "metadata": {},
   "outputs": [],
   "source": [
    "import numpy as np\n",
    "import matplotlib.pyplot as plt\n",
    "import astropy.io.fits as fits\n",
    "from astropy.utils.data import download_file\n",
    "from skimage import filters\n"
   ]
  },
  {
   "cell_type": "code",
   "execution_count": null,
   "id": "07277b82-422a-4a5a-bceb-c4698cdb83b7",
   "metadata": {},
   "outputs": [],
   "source": [
    "\n",
    "# Load FITS image\n",
    "image_file = download_file('http://data.astropy.org/tutorials/FITS-images/HorseHead.fits', cache=True )\n",
    "hdulist = fits.open(image_file)\n",
    "image = hdulist[0].data\n"
   ]
  },
  {
   "cell_type": "code",
   "execution_count": null,
   "id": "e540d12f-7b33-42f5-9a26-689917f52744",
   "metadata": {},
   "outputs": [],
   "source": [
    "\n",
    "# Save FITS image as PNG\n",
    "plt.imsave('original.png', image, cmap='gray')\n"
   ]
  },
  {
   "cell_type": "code",
   "execution_count": null,
   "id": "571d4d02-20fe-446d-9e98-bf71d6188936",
   "metadata": {},
   "outputs": [],
   "source": [
    "\n",
    "# Apply filters\n",
    "gaussian_image = filters.gaussian(image, sigma=2)\n",
    "sobel_image = filters.sobel(image)\n",
    "laplace_image = filters.laplace(image)\n",
    "\n",
    "# Save filtered images as PNGs\n",
    "plt.imsave('gaussian.png', gaussian_image, cmap='gray')\n",
    "plt.imsave('sobel.png', sobel_image, cmap='gray')\n",
    "plt.imsave('laplace.png', laplace_image, cmap='gray')\n"
   ]
  },
  {
   "cell_type": "code",
   "execution_count": null,
   "id": "e3e27d42-3ed4-4bde-b625-81337f72437d",
   "metadata": {},
   "outputs": [],
   "source": [
    "\n",
    "# Display original and filtered images\n",
    "fig, axs = plt.subplots(2, 2, figsize=(8, 8))\n",
    "axs[0, 0].imshow(image, cmap='gray')\n",
    "axs[0, 0].set_title('Original')\n",
    "axs[0, 1].imshow(gaussian_image, cmap='gray')\n",
    "axs[0, 1].set_title('Gaussian')\n",
    "axs[1, 0].imshow(sobel_image, cmap='gray')\n",
    "axs[1, 0].set_title('Sobel')\n",
    "axs[1, 1].imshow(laplace_image, cmap='gray')\n",
    "axs[1, 1].set_title('Laplace')\n",
    "\n",
    "\n",
    "# Save figure as PNG\n",
    "fig.savefig('mosaic.png')"
   ]
  },
  {
   "cell_type": "code",
   "execution_count": null,
   "id": "7e88c412-4a02-4d18-be75-7d6015dc85b4",
   "metadata": {},
   "outputs": [],
   "source": []
  }
 ],
 "metadata": {
  "kernelspec": {
   "display_name": "Python 3 (ipykernel)",
   "language": "python",
   "name": "python3"
  },
  "language_info": {
   "codemirror_mode": {
    "name": "ipython",
    "version": 3
   },
   "file_extension": ".py",
   "mimetype": "text/x-python",
   "name": "python",
   "nbconvert_exporter": "python",
   "pygments_lexer": "ipython3",
   "version": "3.8.10"
  }
 },
 "nbformat": 4,
 "nbformat_minor": 5
}
